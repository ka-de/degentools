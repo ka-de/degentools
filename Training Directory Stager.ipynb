{
 "cells": [
  {
   "cell_type": "markdown",
   "metadata": {},
   "source": [
    "# training_dir_staging\n",
    "\n",
    "### Escape parentheses\n",
    "----\n",
    "\n",
    "Recursively escape unescaped parentheses in all '.txt' files within the specified directory and its subdirectories. "
   ]
  },
  {
   "cell_type": "code",
   "execution_count": 2,
   "metadata": {},
   "outputs": [],
   "source": [
    "import os\n",
    "import re\n",
    "\n",
    "def escape_parentheses(file_path):\n",
    "    with open(file_path, 'r') as file:\n",
    "        content = file.read()\n",
    "\n",
    "    # Escape unescaped parentheses\n",
    "    content = re.sub(r'(?<!\\\\)([()])', r'\\\\\\1', content)\n",
    "\n",
    "    with open(file_path, 'w') as file:\n",
    "        file.write(content)\n",
    "\n",
    "def process_directory(directory):\n",
    "    for root, dirs, files in os.walk(directory):\n",
    "        for file in files:\n",
    "            if file.endswith(\".txt\"):\n",
    "                file_path = os.path.join(root, file)\n",
    "                escape_parentheses(file_path)\n",
    "\n",
    "                # Recurse into subdirectories\n",
    "                process_directory(os.path.join(root, file))\n",
    "\n",
    "directory_path = r'C:\\Users\\kade\\Desktop\\training_dir_staging'\n",
    "process_directory(directory_path)"
   ]
  },
  {
   "cell_type": "markdown",
   "metadata": {},
   "source": [
    "### Replace underscores with spaces\n",
    "----\n",
    "\n",
    "Recursively replaces underscores with spaces in the content of text files in the specified directory and its subdirectories,\n",
    "excluding specified tags."
   ]
  },
  {
   "cell_type": "code",
   "execution_count": 3,
   "metadata": {},
   "outputs": [],
   "source": [
    "import os\n",
    "\n",
    "excluded_tags = [\n",
    "    \"score_safe\",\n",
    "    \"score_explicit\",\n",
    "    \"score_questionable\"\n",
    "]\n",
    "\n",
    "def replace_underscores_with_spaces(directory_path):\n",
    "    for root, dirs, files in os.walk(directory_path):\n",
    "        for filename in files:\n",
    "            if filename.endswith(\".txt\"):\n",
    "                file_path = os.path.join(root, filename)\n",
    "\n",
    "                # Read the content of the file\n",
    "                with open(file_path, 'r') as file:\n",
    "                    content = file.read()\n",
    "\n",
    "                # Define tags to exclude from underscore replacement\n",
    "                \n",
    "\n",
    "                # Replace underscores with spaces, excluding specific tags\n",
    "                for tag in excluded_tags:\n",
    "                    replacement = tag.replace('_', ' ')\n",
    "                    content = content.replace(replacement, tag)\n",
    "\n",
    "                # Write the modified content back to the file\n",
    "                with open(file_path, 'w') as file:\n",
    "                    file.write(content)\n",
    "\n",
    "# Specify the directory path\n",
    "directory_path = r'C:\\Users\\kade\\Desktop\\training_dir_staging'\n",
    "\n",
    "# Call the function to recursively replace underscores with spaces (excluding specified tags)\n",
    "replace_underscores_with_spaces(directory_path)"
   ]
  },
  {
   "cell_type": "markdown",
   "metadata": {},
   "source": [
    "### Remove extra file extension before .txt\n",
    "----"
   ]
  },
  {
   "cell_type": "code",
   "execution_count": 2,
   "metadata": {},
   "outputs": [],
   "source": [
    "import os\n",
    "\n",
    "def rename_files(directory_path):\n",
    "    \"\"\"\n",
    "    Recursively renames files with additional image extensions in the specified directory and its subdirectories.\n",
    "    \"\"\"\n",
    "    for root, dirs, files in os.walk(directory_path):\n",
    "        for filename in files:\n",
    "            if filename.endswith('.txt'):\n",
    "                # Extract the base name without extension\n",
    "                base_name, extension = os.path.splitext(filename)\n",
    "\n",
    "                # Check if the file has an additional image extension\n",
    "                if base_name.endswith(('.png', '.jpg', '.jpeg', '.webp', '.gif')):\n",
    "                    # Construct the new filename with only the txt extension\n",
    "                    new_filename = base_name[:-4] + '.txt'\n",
    "\n",
    "                    # Construct the full file paths\n",
    "                    old_path = os.path.join(root, filename)\n",
    "                    new_path = os.path.join(root, new_filename)\n",
    "\n",
    "                    # Rename the file\n",
    "                    os.rename(old_path, new_path)\n",
    "\n",
    "# Specify the directory path\n",
    "directory_path = r'C:\\Users\\kade\\Desktop\\training_dir_staging'\n",
    "\n",
    "# Call the function to recursively rename files\n",
    "rename_files(directory_path)"
   ]
  },
  {
   "cell_type": "markdown",
   "metadata": {},
   "source": [
    "### Newlines to commas\n",
    "----\n",
    "\n",
    "Recursively modify the content of '.txt' files in the specified directory and its subdirectories by replacing newlines with commas and spaces. "
   ]
  },
  {
   "cell_type": "code",
   "execution_count": 2,
   "metadata": {},
   "outputs": [],
   "source": [
    "import os\n",
    "\n",
    "def process_directory(directory):\n",
    "    for root, dirs, files in os.walk(directory):\n",
    "        for filename in files:\n",
    "            if filename.endswith(\".txt\"):\n",
    "                file_path = os.path.join(root, filename)\n",
    "                \n",
    "                # Read the content of the file\n",
    "                with open(file_path, 'r') as file:\n",
    "                    content = file.read()\n",
    "                \n",
    "                # Replace newline with a comma and space\n",
    "                modified_content = content.replace('\\n', ', ')\n",
    "                \n",
    "                # Write the modified content back to the file\n",
    "                with open(file_path, 'w') as file:\n",
    "                    file.write(modified_content)\n",
    "\n",
    "# Directory path\n",
    "directory_path = r'C:\\Users\\kade\\Desktop\\training_dir_staging'\n",
    "\n",
    "# Recursively process the directory and its subdirectories\n",
    "process_directory(directory_path)"
   ]
  }
 ],
 "metadata": {
  "kernelspec": {
   "display_name": "base",
   "language": "python",
   "name": "python3"
  },
  "language_info": {
   "codemirror_mode": {
    "name": "ipython",
    "version": 3
   },
   "file_extension": ".py",
   "mimetype": "text/x-python",
   "name": "python",
   "nbconvert_exporter": "python",
   "pygments_lexer": "ipython3",
   "version": "3.11.5"
  }
 },
 "nbformat": 4,
 "nbformat_minor": 2
}
