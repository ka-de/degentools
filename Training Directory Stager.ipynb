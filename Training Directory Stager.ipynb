{
 "cells": [
  {
   "cell_type": "markdown",
   "metadata": {},
   "source": [
    "# training_dir_staging"
   ]
  },
  {
   "cell_type": "markdown",
   "metadata": {},
   "source": [
    "### Replace tags\n",
    "----"
   ]
  },
  {
   "cell_type": "code",
   "execution_count": null,
   "metadata": {},
   "outputs": [],
   "source": [
    "import os\n",
    "\n",
    "# Function to replace tags in text files in subdirectories\n",
    "def replace_tags_in_files(directory, old_tag, new_tag):\n",
    "    try:\n",
    "        for entry in os.listdir(directory):\n",
    "            entry_path = os.path.join(directory, entry)\n",
    "\n",
    "            if os.path.isdir(entry_path):\n",
    "                replace_tags_in_files(entry_path, old_tag, new_tag)\n",
    "\n",
    "            elif os.path.isfile(entry_path) and entry.endswith(\".txt\"):\n",
    "                with open(entry_path, 'r', encoding='utf-8') as f:\n",
    "                    content = f.read()\n",
    "\n",
    "                # Replace specified old tag with new tag\n",
    "                content = content.replace(old_tag + ', ', new_tag + ', ').replace(old_tag, new_tag)\n",
    "\n",
    "                # Write back to the file\n",
    "                with open(entry_path, 'w', encoding='utf-8') as f:\n",
    "                    f.write(content)\n",
    "\n",
    "    except Exception as e:\n",
    "        print(f\"Error processing directory {directory}: {e}\\n\")\n",
    "\n",
    "directory_path = r'C:\\Users\\kade\\Desktop\\training_dir_staging'\n",
    "\n",
    "# Execute the function with the desired tags\n",
    "replace_tags_in_files(directory_path, 'exclamation point', '!')\n",
    "replace_tags_in_files(directory_path, 'english text', 'text')\n",
    "replace_tags_in_files(directory_path, 'hankerchief', 'handkerchief')\n",
    "replace_tags_in_files(directory_path, ',,', ',')\n",
    "replace_tags_in_files(directory_path, ', ,', ',')"
   ]
  },
  {
   "cell_type": "markdown",
   "metadata": {},
   "source": [
    "### Insert tag\n",
    "----"
   ]
  },
  {
   "cell_type": "code",
   "execution_count": null,
   "metadata": {},
   "outputs": [],
   "source": [
    "import os\n",
    "\n",
    "# Function to insert a specified tag in text files in subdirectories\n",
    "def insert_tag_in_files(directory, tag_to_insert):\n",
    "    try:\n",
    "        for entry in os.listdir(directory):\n",
    "            entry_path = os.path.join(directory, entry)\n",
    "\n",
    "            if os.path.isdir(entry_path):\n",
    "                insert_tag_in_files(entry_path, tag_to_insert)\n",
    "\n",
    "            elif os.path.isfile(entry_path) and entry.endswith(\".txt\"):\n",
    "\n",
    "                with open(entry_path, 'r', encoding='utf-8') as f:\n",
    "                    content = f.read()\n",
    "\n",
    "                # Insert the specified tag\n",
    "                content = tag_to_insert + ', ' + content\n",
    "\n",
    "                # Write back to the file\n",
    "                with open(entry_path, 'w', encoding='utf-8') as f:\n",
    "                    f.write(content)\n",
    "\n",
    "    except Exception as e:\n",
    "        print(f\"Error processing directory {directory}: {e}\\n\")\n",
    "\n",
    "directory_path = r'C:\\Users\\kade\\Desktop\\training_dir_staging'\n",
    "\n",
    "# Execute the function with the desired tag\n",
    "insert_tag_in_files(directory_path, 'new_tag_here')"
   ]
  },
  {
   "cell_type": "markdown",
   "metadata": {},
   "source": [
    "### Escape parentheses\n",
    "----\n",
    "\n",
    "Recursively escape unescaped parentheses in all '.txt' files within the specified directory and its subdirectories. "
   ]
  },
  {
   "cell_type": "code",
   "execution_count": 2,
   "metadata": {},
   "outputs": [],
   "source": [
    "import os\n",
    "import re\n",
    "\n",
    "def escape_parentheses(file_path):\n",
    "    with open(file_path, 'r') as file:\n",
    "        content = file.read()\n",
    "\n",
    "    # Escape unescaped parentheses\n",
    "    content = re.sub(r'(?<!\\\\)([()])', r'\\\\\\1', content)\n",
    "\n",
    "    with open(file_path, 'w') as file:\n",
    "        file.write(content)\n",
    "\n",
    "def process_directory(directory):\n",
    "    for root, dirs, files in os.walk(directory):\n",
    "        for file in files:\n",
    "            if file.endswith(\".txt\"):\n",
    "                file_path = os.path.join(root, file)\n",
    "                escape_parentheses(file_path)\n",
    "\n",
    "                # Recurse into subdirectories\n",
    "                process_directory(os.path.join(root, file))\n",
    "\n",
    "directory_path = r'C:\\Users\\kade\\Desktop\\training_dir_staging'\n",
    "process_directory(directory_path)"
   ]
  },
  {
   "cell_type": "markdown",
   "metadata": {},
   "source": [
    "### Replace underscores with spaces\n",
    "----\n",
    "\n",
    "Recursively replaces underscores with spaces in the content of text files in the specified directory and its subdirectories,\n",
    "excluding specified tags."
   ]
  },
  {
   "cell_type": "code",
   "execution_count": 3,
   "metadata": {},
   "outputs": [],
   "source": [
    "import os\n",
    "\n",
    "excluded_tags = [\n",
    "    \"score_safe\",\n",
    "    \"score_explicit\",\n",
    "    \"score_questionable\"\n",
    "]\n",
    "\n",
    "def replace_underscores_with_spaces(directory_path):\n",
    "    for root, dirs, files in os.walk(directory_path):\n",
    "        for filename in files:\n",
    "            if filename.endswith(\".txt\"):\n",
    "                file_path = os.path.join(root, filename)\n",
    "\n",
    "                # Read the content of the file\n",
    "                with open(file_path, 'r') as file:\n",
    "                    content = file.read()\n",
    "\n",
    "                # Define tags to exclude from underscore replacement\n",
    "                \n",
    "\n",
    "                # Replace underscores with spaces, excluding specific tags\n",
    "                for tag in excluded_tags:\n",
    "                    replacement = tag.replace('_', ' ')\n",
    "                    content = content.replace(replacement, tag)\n",
    "\n",
    "                # Write the modified content back to the file\n",
    "                with open(file_path, 'w') as file:\n",
    "                    file.write(content)\n",
    "\n",
    "# Specify the directory path\n",
    "directory_path = r'C:\\Users\\kade\\Desktop\\training_dir_staging'\n",
    "\n",
    "# Call the function to recursively replace underscores with spaces (excluding specified tags)\n",
    "replace_underscores_with_spaces(directory_path)"
   ]
  },
  {
   "cell_type": "markdown",
   "metadata": {},
   "source": [
    "### Remove extra file extension before .txt\n",
    "----"
   ]
  },
  {
   "cell_type": "code",
   "execution_count": 2,
   "metadata": {},
   "outputs": [],
   "source": [
    "import os\n",
    "\n",
    "def rename_files(directory_path):\n",
    "    \"\"\"\n",
    "    Recursively renames files with additional image extensions in the specified directory and its subdirectories.\n",
    "    \"\"\"\n",
    "    for root, dirs, files in os.walk(directory_path):\n",
    "        for filename in files:\n",
    "            if filename.endswith('.txt'):\n",
    "                # Extract the base name without extension\n",
    "                base_name, extension = os.path.splitext(filename)\n",
    "\n",
    "                # Check if the file has an additional image extension\n",
    "                if base_name.endswith(('.png', '.jpg', '.jpeg', '.webp', '.gif')):\n",
    "                    # Construct the new filename with only the txt extension\n",
    "                    new_filename = base_name[:-4] + '.txt'\n",
    "\n",
    "                    # Construct the full file paths\n",
    "                    old_path = os.path.join(root, filename)\n",
    "                    new_path = os.path.join(root, new_filename)\n",
    "\n",
    "                    # Rename the file\n",
    "                    os.rename(old_path, new_path)\n",
    "\n",
    "# Specify the directory path\n",
    "directory_path = r'C:\\Users\\kade\\Desktop\\training_dir_staging'\n",
    "\n",
    "# Call the function to recursively rename files\n",
    "rename_files(directory_path)"
   ]
  },
  {
   "cell_type": "markdown",
   "metadata": {},
   "source": [
    "### Newlines to commas\n",
    "----\n",
    "\n",
    "Recursively modify the content of '.txt' files in the specified directory and its subdirectories by replacing newlines with commas and spaces. "
   ]
  },
  {
   "cell_type": "code",
   "execution_count": 2,
   "metadata": {},
   "outputs": [],
   "source": [
    "import os\n",
    "\n",
    "def process_directory(directory):\n",
    "    for root, dirs, files in os.walk(directory):\n",
    "        for filename in files:\n",
    "            if filename.endswith(\".txt\"):\n",
    "                file_path = os.path.join(root, filename)\n",
    "                \n",
    "                # Read the content of the file\n",
    "                with open(file_path, 'r') as file:\n",
    "                    content = file.read()\n",
    "                \n",
    "                # Replace newline with a comma and space\n",
    "                modified_content = content.replace('\\n', ', ')\n",
    "                \n",
    "                # Write the modified content back to the file\n",
    "                with open(file_path, 'w') as file:\n",
    "                    file.write(modified_content)\n",
    "\n",
    "# Directory path\n",
    "directory_path = r'C:\\Users\\kade\\Desktop\\training_dir_staging'\n",
    "\n",
    "# Recursively process the directory and its subdirectories\n",
    "process_directory(directory_path)"
   ]
  }
 ],
 "metadata": {
  "kernelspec": {
   "display_name": "base",
   "language": "python",
   "name": "python3"
  },
  "language_info": {
   "codemirror_mode": {
    "name": "ipython",
    "version": 3
   },
   "file_extension": ".py",
   "mimetype": "text/x-python",
   "name": "python",
   "nbconvert_exporter": "python",
   "pygments_lexer": "ipython3",
   "version": "3.11.5"
  }
 },
 "nbformat": 4,
 "nbformat_minor": 2
}
