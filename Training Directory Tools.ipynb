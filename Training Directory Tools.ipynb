{
 "cells": [
  {
   "cell_type": "markdown",
   "metadata": {},
   "source": [
    "# training dir"
   ]
  },
  {
   "cell_type": "markdown",
   "metadata": {},
   "source": [
    "### Tag Tally\n",
    "----"
   ]
  },
  {
   "cell_type": "code",
   "execution_count": null,
   "metadata": {},
   "outputs": [],
   "source": [
    "import os\n",
    "\n",
    "def process_folder(folder_path):\n",
    "    tags_count = {}\n",
    "    file_tags = {}\n",
    "    \n",
    "    for root, dirs, files in os.walk(folder_path):\n",
    "        for file in files:\n",
    "            if file.endswith(\".txt\"):\n",
    "                file_path = os.path.join(root, file)\n",
    "                with open(file_path, 'r', encoding='utf-8') as txt_file:\n",
    "                    content = txt_file.read()\n",
    "                    tags = [tag.strip() for tag in content.split(',') if tag.strip()]\n",
    "                    \n",
    "                    for tag in tags:\n",
    "                        tags_count[tag] = tags_count.get(tag, 0) + 1\n",
    "                        file_tags[tag] = file_path\n",
    "\n",
    "    #for tag, count in tags_count.items():\n",
    "    #    print(f\"{tag}: {count} times\")\n",
    "\n",
    "    print(\"\\nDangling Tags:\")\n",
    "    for tag, count in tags_count.items():\n",
    "        if count <= 2:\n",
    "            print(f\"{tag}: {count} times - Dangling in {file_tags[tag]}\")\n",
    "\n",
    "# Replace 'C:\\Users\\kade\\Desktop\\training_dir' with the actual path to your directory\n",
    "folder_path = r'C:\\Users\\kade\\Desktop\\training_dir'\n",
    "process_folder(folder_path)"
   ]
  },
  {
   "cell_type": "markdown",
   "metadata": {},
   "source": [
    "### Remove tags\n",
    "----"
   ]
  },
  {
   "cell_type": "code",
   "execution_count": null,
   "metadata": {},
   "outputs": [],
   "source": [
    "import os\n",
    "\n",
    "def remove_tags(file_path):\n",
    "    with open(file_path, 'r', encoding='utf-8') as file:\n",
    "        content = file.read()\n",
    "    \n",
    "    # Remove specified tags\n",
    "    tags_to_remove = [\n",
    "        \"tan ear tips\",\n",
    "        \"tan ears\",\n",
    "        \"aaa qie\"\n",
    "    ]\n",
    "\n",
    "    # Store removal actions for later printing\n",
    "    removal_actions = []\n",
    "\n",
    "    for tag in tags_to_remove:\n",
    "        if tag in content:\n",
    "            # Remove the tag\n",
    "            content = content.replace(tag, '')\n",
    "\n",
    "            # Remove \", \" after the tag\n",
    "            tag_comma = f\"{tag}, \"\n",
    "            content = content.replace(tag_comma, '')\n",
    "\n",
    "            removal_actions.append(f'Removed tag \"{tag}\" and \", \" after it from file: {file_path}')\n",
    "\n",
    "    with open(file_path, 'w', encoding='utf-8') as file:\n",
    "        file.write(content)\n",
    "\n",
    "    return removal_actions\n",
    "\n",
    "def process_directory(directory):\n",
    "    all_removal_actions = []\n",
    "\n",
    "    for root, dirs, files in os.walk(directory):\n",
    "        for file in files:\n",
    "            if file.endswith(\".txt\"):\n",
    "                file_path = os.path.join(root, file)\n",
    "                removal_actions = remove_tags(file_path)\n",
    "                all_removal_actions.extend(removal_actions)\n",
    "\n",
    "    for action in all_removal_actions:\n",
    "        print(action)\n",
    "\n",
    "# Provide the path to the directory\n",
    "directory_path = r'C:\\Users\\kade\\Desktop\\training_dir'\n",
    "\n",
    "# Recursively remove tags and \", \" after tags from *.txt files in the specified directory and print removal actions\n",
    "process_directory(directory_path)"
   ]
  },
  {
   "cell_type": "markdown",
   "metadata": {},
   "source": [
    "### Fix score_* tags with underscores\n",
    "----"
   ]
  },
  {
   "cell_type": "code",
   "execution_count": null,
   "metadata": {},
   "outputs": [],
   "source": [
    "import os\n",
    "import fileinput\n",
    "\n",
    "# Function to recursively replace text in *.txt files\n",
    "def replace_text_in_files(directory):\n",
    "    for subdir, _, files in os.walk(directory):\n",
    "        for file in files:\n",
    "            if file.endswith(\".txt\"):\n",
    "                file_path = os.path.join(subdir, file)\n",
    "                with fileinput.FileInput(file_path, inplace=True) as file:\n",
    "                    for line in file:\n",
    "                        print(line.replace(\"score safe\", \"score_safe\")\n",
    "                                   .replace(\"score questionable\", \"score_questionable\")\n",
    "                                   .replace(\"score explicit\", \"score_explicit\"), end='')\n",
    "\n",
    "# Replace text in the specified directory\n",
    "replace_text_in_files(r'C:\\Users\\kade\\Desktop\\training_dir')"
   ]
  },
  {
   "cell_type": "markdown",
   "metadata": {},
   "source": [
    "### Remove extra file extension before .txt\n",
    "----"
   ]
  },
  {
   "cell_type": "code",
   "execution_count": null,
   "metadata": {},
   "outputs": [],
   "source": [
    "import os\n",
    "\n",
    "def rename_files(directory_path):\n",
    "    \"\"\"\n",
    "    Recursively renames files with additional image extensions in the specified directory and its subdirectories.\n",
    "    \"\"\"\n",
    "    for root, dirs, files in os.walk(directory_path):\n",
    "        for filename in files:\n",
    "            if filename.endswith('.txt'):\n",
    "                # Extract the base name without extension\n",
    "                base_name, extension = os.path.splitext(filename)\n",
    "\n",
    "                # Check if the file has an additional image extension\n",
    "                if base_name.endswith(('.png', '.jpg', '.jpeg', '.webp', '.gif')):\n",
    "                    # Construct the new filename with only the txt extension\n",
    "                    new_filename = base_name[:-4] + '.txt'\n",
    "\n",
    "                    # Construct the full file paths\n",
    "                    old_path = os.path.join(root, filename)\n",
    "                    new_path = os.path.join(root, new_filename)\n",
    "\n",
    "                    # Rename the file\n",
    "                    os.rename(old_path, new_path)\n",
    "\n",
    "# Specify the directory path\n",
    "directory_path = r'C:\\Users\\kade\\Desktop\\training_dir'\n",
    "\n",
    "# Call the function to recursively rename files\n",
    "rename_files(directory_path)"
   ]
  }
 ],
 "metadata": {
  "kernelspec": {
   "display_name": "base",
   "language": "python",
   "name": "python3"
  },
  "language_info": {
   "name": "python",
   "version": "3.11.5"
  }
 },
 "nbformat": 4,
 "nbformat_minor": 2
}
