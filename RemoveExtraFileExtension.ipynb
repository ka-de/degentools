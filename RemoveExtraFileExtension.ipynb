{
 "cells": [
  {
   "cell_type": "markdown",
   "metadata": {},
   "source": [
    "### Grabber - Remove extra file extension before .txt\n",
    "----"
   ]
  },
  {
   "cell_type": "code",
   "execution_count": 1,
   "metadata": {},
   "outputs": [],
   "source": [
    "import os\n",
    "\n",
    "# Directory path\n",
    "directory_path = r'C:\\Users\\kade\\Desktop\\Grabber'\n",
    "\n",
    "# Iterate through files in the directory\n",
    "for filename in os.listdir(directory_path):\n",
    "    if filename.endswith('.txt'):\n",
    "        # Extract the base name without extension\n",
    "        base_name, extension = os.path.splitext(filename)\n",
    "\n",
    "        # Check if the file has an additional extension\n",
    "        if base_name.endswith(('.png', '.jpg', '.jpeg', '.webp', '.gif')):\n",
    "            # Construct the new filename with only the txt extension\n",
    "            new_filename = base_name[:-4] + '.txt'\n",
    "\n",
    "            # Construct the full file paths\n",
    "            old_path = os.path.join(directory_path, filename)\n",
    "            new_path = os.path.join(directory_path, new_filename)\n",
    "\n",
    "            # Rename the file\n",
    "            os.rename(old_path, new_path)"
   ]
  }
 ],
 "metadata": {
  "kernelspec": {
   "display_name": "base",
   "language": "python",
   "name": "python3"
  },
  "language_info": {
   "codemirror_mode": {
    "name": "ipython",
    "version": 3
   },
   "file_extension": ".py",
   "mimetype": "text/x-python",
   "name": "python",
   "nbconvert_exporter": "python",
   "pygments_lexer": "ipython3",
   "version": "3.11.5"
  }
 },
 "nbformat": 4,
 "nbformat_minor": 2
}
