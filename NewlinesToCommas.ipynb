{
 "cells": [
  {
   "cell_type": "markdown",
   "metadata": {},
   "source": [
    "### Grabber - Newlines to commas\n",
    "----"
   ]
  },
  {
   "cell_type": "code",
   "execution_count": 1,
   "metadata": {},
   "outputs": [],
   "source": [
    "import os\n",
    "\n",
    "# Directory path\n",
    "directory_path = r'C:\\Users\\kade\\Desktop\\Grabber'\n",
    "\n",
    "# Iterate through each text file in the directory\n",
    "for filename in os.listdir(directory_path):\n",
    "    if filename.endswith(\".txt\"):\n",
    "        file_path = os.path.join(directory_path, filename)\n",
    "        \n",
    "        # Read the content of the file\n",
    "        with open(file_path, 'r') as file:\n",
    "            content = file.read()\n",
    "        \n",
    "        # Replace newline with a comma and space\n",
    "        modified_content = content.replace('\\n', ', ')\n",
    "        \n",
    "        # Write the modified content back to the file\n",
    "        with open(file_path, 'w') as file:\n",
    "            file.write(modified_content)"
   ]
  }
 ],
 "metadata": {
  "kernelspec": {
   "display_name": "base",
   "language": "python",
   "name": "python3"
  },
  "language_info": {
   "codemirror_mode": {
    "name": "ipython",
    "version": 3
   },
   "file_extension": ".py",
   "mimetype": "text/x-python",
   "name": "python",
   "nbconvert_exporter": "python",
   "pygments_lexer": "ipython3",
   "version": "3.11.5"
  }
 },
 "nbformat": 4,
 "nbformat_minor": 2
}
